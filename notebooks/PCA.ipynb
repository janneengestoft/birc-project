{
 "cells": [
  {
   "cell_type": "code",
   "execution_count": 1,
   "id": "experimental-conservative",
   "metadata": {},
   "outputs": [],
   "source": [
    "from matplotlib import pyplot as plt\n",
    "%matplotlib inline"
   ]
  },
  {
   "cell_type": "code",
   "execution_count": 2,
   "id": "vital-shoot",
   "metadata": {},
   "outputs": [],
   "source": [
    "from sklearn.decomposition import PCA as sklearnPCA\n",
    "from sklearn.manifold import TSNE\n",
    "from sklearn.preprocessing import StandardScaler\n",
    "from sklearn.pipeline import make_pipeline\n",
    "from sklearn.datasets import load_digits\n",
    "from sklearn.model_selection import train_test_split"
   ]
  },
  {
   "cell_type": "code",
   "execution_count": 3,
   "id": "intellectual-incidence",
   "metadata": {},
   "outputs": [],
   "source": [
    "import allel\n",
    "import numpy as np\n",
    "import pandas as pd\n",
    "import seaborn as sns"
   ]
  },
  {
   "cell_type": "markdown",
   "id": "manufactured-single",
   "metadata": {},
   "source": [
    "## PCA using sci-kit learn\n",
    "\n",
    "### PCA using vcf files\n",
    "\n",
    "Loading in the vcf files as well as the metadata file"
   ]
  },
  {
   "cell_type": "code",
   "execution_count": 12,
   "id": "fitted-parent",
   "metadata": {},
   "outputs": [],
   "source": [
    "chr7_females = allel.read_vcf('../steps/recode_vcf/chr7_females.recode.vcf')"
   ]
  },
  {
   "cell_type": "code",
   "execution_count": 13,
   "id": "undefined-contest",
   "metadata": {},
   "outputs": [],
   "source": [
    "chrX_females = allel.read_vcf('../steps/recode_vcf/chrX_females.recode.vcf')"
   ]
  },
  {
   "cell_type": "code",
   "execution_count": 14,
   "id": "supposed-firewall",
   "metadata": {},
   "outputs": [],
   "source": [
    "chr7_males = allel.read_vcf('../steps/recode_vcf/chr7_males.recode.vcf')"
   ]
  },
  {
   "cell_type": "code",
   "execution_count": 15,
   "id": "natural-intellectual",
   "metadata": {},
   "outputs": [],
   "source": [
    "chrX_males = allel.read_vcf('../../../../data/haploidified_chrX_males/hap_chrX_males.vcf.gz')"
   ]
  },
  {
   "cell_type": "code",
   "execution_count": 16,
   "id": "nuclear-memorial",
   "metadata": {},
   "outputs": [],
   "source": [
    "meta_data_samples = pd.read_table(\"../data/metadata.txt\", sep=\" \")"
   ]
  },
  {
   "cell_type": "code",
   "execution_count": 17,
   "id": "chief-bishop",
   "metadata": {},
   "outputs": [],
   "source": [
    "meta_data_females = meta_data_samples[meta_data_samples['Sex'] == 'F']\n",
    "meta_data_males = meta_data_samples[(meta_data_samples['Sex'] == 'M') & (meta_data_samples['Genus'] == 'Papio')]"
   ]
  },
  {
   "cell_type": "markdown",
   "id": "north-heart",
   "metadata": {},
   "source": [
    "Function for converting vcf file into df to be used for PCA."
   ]
  },
  {
   "cell_type": "code",
   "execution_count": 4,
   "id": "successful-snapshot",
   "metadata": {},
   "outputs": [],
   "source": [
    "def vcf2df(vcf):\n",
    "    gt = allel.GenotypeArray(vcf['calldata/GT'])\n",
    "    ac = gt.count_alleles()\n",
    "    \n",
    "    flt = (ac.max_allele() == 1) & (ac[:, :2].min(axis=1) > 1)\n",
    "    gf = gt.compress(flt, axis=0)\n",
    "    \n",
    "    gn = gf.to_n_alt()\n",
    "    \n",
    "    return gn"
   ]
  },
  {
   "cell_type": "markdown",
   "id": "premium-livestock",
   "metadata": {},
   "source": [
    "Function for pruning the df."
   ]
  },
  {
   "cell_type": "code",
   "execution_count": 5,
   "id": "presidential-vegetarian",
   "metadata": {},
   "outputs": [],
   "source": [
    "def ld_prune(gn, size, step, threshold=.1, n_iter=1):\n",
    "    for i in range(n_iter):\n",
    "        loc_unlinked = allel.locate_unlinked(gn, size=size, step=step, threshold=threshold)\n",
    "        n = np.count_nonzero(loc_unlinked)\n",
    "        n_remove = gn.shape[0] - n\n",
    "        print('iteration', i+1, 'retaining', n, 'removing', n_remove, 'variants')\n",
    "        gn = gn.compress(loc_unlinked, axis=0)\n",
    "    return gn"
   ]
  },
  {
   "cell_type": "markdown",
   "id": "favorite-weather",
   "metadata": {},
   "source": [
    "Function for performing PCA analysis."
   ]
  },
  {
   "cell_type": "code",
   "execution_count": 6,
   "id": "subject-saint",
   "metadata": {},
   "outputs": [],
   "source": [
    "def perform_pca(df, vcf, components, pop_df):\n",
    "    pipeline = make_pipeline(StandardScaler(), sklearnPCA(n_components=components))\n",
    "    data_transf = pipeline.fit_transform(df.T)\n",
    "    \n",
    "    principal_df = pd.DataFrame(data = data_transf, \n",
    "                                columns = ['PC{}'.format(i) for i in range(1, components + 1)],\n",
    "                                index=vcf['samples'])\n",
    "    \n",
    "    pop_df = pop_df.set_index('PGDP_ID')\n",
    "    \n",
    "    principal_df.index = principal_df.index.str.replace('Sci_', '', regex=True) # Removing instances where individuals have the prefix 'Sci'\n",
    "    \n",
    "    final_df = pd.merge(principal_df, pop_df['C_origin'], left_index=True, right_index=True)\n",
    "\n",
    "    pca = pipeline.get_params()['pca']\n",
    "    \n",
    "    return final_df, pca"
   ]
  },
  {
   "cell_type": "markdown",
   "id": "widespread-chamber",
   "metadata": {},
   "source": [
    "Function for plotting two pcs."
   ]
  },
  {
   "cell_type": "code",
   "execution_count": 7,
   "id": "educational-bangladesh",
   "metadata": {},
   "outputs": [],
   "source": [
    "def plot_pca(df, pca, pop, chrom, pc_xaxis, pc_yaxis):\n",
    "    pc1_var = (pca.explained_variance_ratio_[pc_xaxis-1]*100).round(decimals=2)\n",
    "    pc2_var = (pca.explained_variance_ratio_[pc_yaxis-1]*100).round(decimals=2)\n",
    "    \n",
    "    fig, ax = plt.subplots(figsize = (6,5))\n",
    "    \n",
    "    groups = df.groupby('C_origin')\n",
    "    for name, group in groups:\n",
    "        plt.scatter(group['PC{}'.format(pc_xaxis)], group['PC{}'.format(pc_yaxis)], label=name)\n",
    "        \n",
    "    ax.set_xlabel('Principal Component {} ({}%)'.format(pc_xaxis, pc1_var), fontsize = 10)\n",
    "    ax.set_ylabel('Principal Component {} ({}%)'.format(pc_yaxis, pc2_var), fontsize = 10)\n",
    "    ax.text(s = 'Chromosome {}'.format(chrom), size=20, rotation=0, ha = 'center', x=0.5,y=1.06,transform=ax.transAxes)\n",
    "#     plt.title('{}'.format(pop), fontsize = 20, rotation='vertical',x=-0.22,y=0.35)\n",
    "    \n",
    "    \n",
    "    ax.legend(bbox_to_anchor=(1.01, 0.75), loc=2)\n",
    "#     ax.get_legend().remove()\n",
    "    \n",
    "    \n",
    "#     fig.tight_layout()\n",
    "    plt.show()\n",
    "    fig.savefig('../figures/PC{}_{}_{}_{}.pdf'.format(pc_xaxis, pc_yaxis, pop, chrom), bbox_inches='tight')"
   ]
  },
  {
   "cell_type": "markdown",
   "id": "fleet-puppy",
   "metadata": {},
   "source": [
    "Function for plotting the variance explained ratio of each of the pcs."
   ]
  },
  {
   "cell_type": "code",
   "execution_count": 8,
   "id": "future-belly",
   "metadata": {},
   "outputs": [],
   "source": [
    "def var_expl(pca):\n",
    "    fig, ax = plt.subplots(figsize = (6,5))\n",
    "    \n",
    "    ax.bar(x = range(1, 11), height = pca.explained_variance_ratio_)\n",
    "    \n",
    "    ax.set_xlabel('Principal Components', fontsize = 10)\n",
    "    ax.set_ylabel('Variance explained', fontsize = 10)\n",
    "    ax.set_title('Distribution of variance explained', fontsize = 15)\n",
    "    ax.set_ylim(0, max(pca.explained_variance_ratio_)*2)\n",
    "\n",
    "    plt.show()"
   ]
  },
  {
   "cell_type": "markdown",
   "id": "false-winning",
   "metadata": {},
   "source": [
    "#### Females\n",
    "##### Chromosome 7"
   ]
  },
  {
   "cell_type": "code",
   "execution_count": null,
   "id": "concerned-paint",
   "metadata": {},
   "outputs": [],
   "source": [
    "females_7 = vcf2df(chr7_females)"
   ]
  },
  {
   "cell_type": "code",
   "execution_count": null,
   "id": "cathedral-wagon",
   "metadata": {},
   "outputs": [],
   "source": [
    "pruned_females_7 = ld_prune(females_7, size=200, step=20, threshold=.1, n_iter=1)"
   ]
  },
  {
   "cell_type": "code",
   "execution_count": null,
   "id": "widespread-noise",
   "metadata": {},
   "outputs": [],
   "source": [
    "pca_chr7_females = perform_pca(pruned_females_7, chr7_females, 10, meta_data_females)"
   ]
  },
  {
   "cell_type": "code",
   "execution_count": null,
   "id": "changed-picnic",
   "metadata": {},
   "outputs": [],
   "source": [
    "var_expl(pca_chr7_females[1])"
   ]
  },
  {
   "cell_type": "code",
   "execution_count": null,
   "id": "finished-weight",
   "metadata": {},
   "outputs": [],
   "source": [
    "plot_pca(pca_chr7_females[0], pca_chr7_females[1], 'Females', 7, 1, 2)"
   ]
  },
  {
   "cell_type": "code",
   "execution_count": null,
   "id": "owned-artist",
   "metadata": {},
   "outputs": [],
   "source": [
    "plot_pca(pca_chr7_females[0], pca_chr7_females[1], 'Females', 7, 2, 3)"
   ]
  },
  {
   "cell_type": "markdown",
   "id": "approximate-princeton",
   "metadata": {},
   "source": [
    "##### Chromosome X"
   ]
  },
  {
   "cell_type": "code",
   "execution_count": null,
   "id": "magnetic-regression",
   "metadata": {},
   "outputs": [],
   "source": [
    "females_X = vcf2df(chrX_females)"
   ]
  },
  {
   "cell_type": "code",
   "execution_count": null,
   "id": "damaged-merchant",
   "metadata": {},
   "outputs": [],
   "source": [
    "pruned_females_X = ld_prune(females_X, size=200, step=20, threshold=.1, n_iter=1)"
   ]
  },
  {
   "cell_type": "code",
   "execution_count": null,
   "id": "medieval-prototype",
   "metadata": {},
   "outputs": [],
   "source": [
    "pca_chrX_females = perform_pca(pruned_females_X, chrX_females, 10, meta_data_females)"
   ]
  },
  {
   "cell_type": "code",
   "execution_count": null,
   "id": "cleared-practitioner",
   "metadata": {
    "scrolled": true
   },
   "outputs": [],
   "source": [
    "var_expl(pca_chrX_females[1])"
   ]
  },
  {
   "cell_type": "code",
   "execution_count": null,
   "id": "decimal-lingerie",
   "metadata": {},
   "outputs": [],
   "source": [
    "plot_pca(pca_chrX_females[0], pca_chrX_females[1], 'Females', 'X', 1, 2)"
   ]
  },
  {
   "cell_type": "code",
   "execution_count": null,
   "id": "ignored-banana",
   "metadata": {},
   "outputs": [],
   "source": [
    "plot_pca(pca_chrX_females[0], pca_chrX_females[1], 'Females', 'X', 2, 3)"
   ]
  },
  {
   "cell_type": "markdown",
   "id": "disciplinary-notice",
   "metadata": {},
   "source": [
    "#### Males\n",
    "##### Chromosome 7"
   ]
  },
  {
   "cell_type": "code",
   "execution_count": null,
   "id": "liked-mexico",
   "metadata": {},
   "outputs": [],
   "source": [
    "males_7 = vcf2df(chr7_males)"
   ]
  },
  {
   "cell_type": "code",
   "execution_count": null,
   "id": "acceptable-texture",
   "metadata": {},
   "outputs": [],
   "source": [
    "pruned_males_7 = ld_prune(males_7, size=200, step=20, threshold=.1, n_iter=1)"
   ]
  },
  {
   "cell_type": "code",
   "execution_count": null,
   "id": "needed-designation",
   "metadata": {},
   "outputs": [],
   "source": [
    "pca_chr7_males = perform_pca(pruned_males_7, chr7_males, 10, meta_data_males)"
   ]
  },
  {
   "cell_type": "code",
   "execution_count": null,
   "id": "numeric-arthritis",
   "metadata": {},
   "outputs": [],
   "source": [
    "var_expl(pca_chr7_males[1])"
   ]
  },
  {
   "cell_type": "code",
   "execution_count": null,
   "id": "chief-fleet",
   "metadata": {
    "scrolled": true
   },
   "outputs": [],
   "source": [
    "plot_pca(pca_chr7_males[0], pca_chr7_males[1], 'Males', 7, 1, 2)"
   ]
  },
  {
   "cell_type": "code",
   "execution_count": null,
   "id": "pleasant-turner",
   "metadata": {
    "scrolled": true
   },
   "outputs": [],
   "source": [
    "plot_pca(pca_chr7_males[0], pca_chr7_males[1], 'Males', 7, 2, 3)"
   ]
  },
  {
   "cell_type": "markdown",
   "id": "copyrighted-preparation",
   "metadata": {},
   "source": [
    "##### Chromosome X"
   ]
  },
  {
   "cell_type": "code",
   "execution_count": null,
   "id": "secure-barbados",
   "metadata": {},
   "outputs": [],
   "source": [
    "males_X = vcf2df(chrX_males)"
   ]
  },
  {
   "cell_type": "code",
   "execution_count": null,
   "id": "another-rebecca",
   "metadata": {},
   "outputs": [],
   "source": [
    "pruned_males_X = ld_prune(males_X, size=200, step=20, threshold=.1, n_iter=1)"
   ]
  },
  {
   "cell_type": "code",
   "execution_count": null,
   "id": "detected-increase",
   "metadata": {},
   "outputs": [],
   "source": [
    "pca_chrX_males = perform_pca(pruned_males_X, chrX_males, 10, meta_data_males)"
   ]
  },
  {
   "cell_type": "code",
   "execution_count": null,
   "id": "narrow-software",
   "metadata": {},
   "outputs": [],
   "source": [
    "var_expl(pca_chrX_males[1])"
   ]
  },
  {
   "cell_type": "code",
   "execution_count": null,
   "id": "concerned-frost",
   "metadata": {},
   "outputs": [],
   "source": [
    "plot_pca(pca_chrX_males[0], pca_chrX_males[1], 'Males', 'X', 1, 2)"
   ]
  },
  {
   "cell_type": "code",
   "execution_count": null,
   "id": "vital-mortality",
   "metadata": {},
   "outputs": [],
   "source": [
    "plot_pca(pca_chrX_males[0], pca_chrX_males[1], 'Males', 'X', 2, 3)"
   ]
  },
  {
   "cell_type": "markdown",
   "id": "rubber-meeting",
   "metadata": {},
   "source": [
    "### PCA using chromopainter output"
   ]
  },
  {
   "cell_type": "code",
   "execution_count": 18,
   "id": "requested-peoples",
   "metadata": {},
   "outputs": [],
   "source": [
    "def plot_fs_pca(df, pca, pc_xaxis, pc_yaxis, chrom, pop):\n",
    "    pc1_var = (pca.explained_variance_ratio_[pc_xaxis-1]*100).round(decimals=2)\n",
    "    pc2_var = (pca.explained_variance_ratio_[pc_yaxis-1]*100).round(decimals=2)\n",
    "\n",
    "    fig, ax = plt.subplots(figsize = (6,5))\n",
    "\n",
    "    groups = df.groupby('C_origin')\n",
    "    for name, group in groups:\n",
    "        ax.scatter(group['PC{}'.format(pc_xaxis)], group['PC{}'.format(pc_yaxis)], label=name)\n",
    "\n",
    "    ax.set_xlabel('Principal Component {} ({}%)'.format(pc_xaxis, pc1_var), fontsize = 10)\n",
    "    ax.set_ylabel('Principal Component {} ({}%)'.format(pc_yaxis, pc2_var), fontsize = 10)\n",
    "    ax.text(s = 'Chromosome {}'.format(chrom), size=20, rotation=0, ha = 'center', x=0.5,y=1.06,transform=ax.transAxes)\n",
    "    plt.title('{}'.format(pop), fontsize = 20, rotation='vertical',x=-0.22,y=0.35)\n",
    "    \n",
    "    ax.legend(bbox_to_anchor=(1.01, 0.75), loc=2)\n",
    "#     ax.get_legend().remove()\n",
    "\n",
    "#     fig.tight_layout()\n",
    "    fig.savefig('../figures/fs_pc{}_{}_{}_{}.pdf'.format(pc_xaxis, pc_yaxis, pop, chrom), bbox_inches='tight')\n",
    "    plt.show()"
   ]
  },
  {
   "cell_type": "markdown",
   "id": "exact-affair",
   "metadata": {},
   "source": [
    "#### Data"
   ]
  },
  {
   "cell_type": "code",
   "execution_count": 19,
   "id": "compressed-instruction",
   "metadata": {
    "scrolled": true
   },
   "outputs": [],
   "source": [
    "fs_out_malesX = pd.read_table(\"../steps/finestructure/test_run_linked.chunkcounts.out\", sep=\" \", header = 1, index_col = 0)\n",
    "fs_out_males7 = pd.read_table(\"../steps/finestructure/male_chr7_unlinked_unlinked.chunkcounts.out\", sep=\" \", header = 1, index_col = 0)\n",
    "fs_out_femalesX = pd.read_table(\"../steps/finestructure/female_unlinked_unlinked.chunkcounts.out\", sep=\" \", header = 1, index_col = 0)\n",
    "fs_out_females7 = pd.read_table(\"../steps/finestructure/female_chr7_unlinked_unlinked.chunkcounts.out\", sep=\" \", header = 1, index_col = 0)"
   ]
  },
  {
   "cell_type": "markdown",
   "id": "designed-burst",
   "metadata": {},
   "source": [
    "##### Females"
   ]
  },
  {
   "cell_type": "code",
   "execution_count": 20,
   "id": "dirty-invite",
   "metadata": {},
   "outputs": [],
   "source": [
    "fs_females7 = perform_pca(fs_out_females7, chr7_females, 10, meta_data_females) "
   ]
  },
  {
   "cell_type": "code",
   "execution_count": null,
   "id": "positive-coach",
   "metadata": {},
   "outputs": [],
   "source": [
    "var_expl(fs_females7[1])"
   ]
  },
  {
   "cell_type": "code",
   "execution_count": null,
   "id": "known-relaxation",
   "metadata": {},
   "outputs": [],
   "source": [
    "plot_fs_pca(fs_females7[0], fs_females7[1], 1, 2)"
   ]
  },
  {
   "cell_type": "code",
   "execution_count": null,
   "id": "abandoned-champagne",
   "metadata": {},
   "outputs": [],
   "source": [
    "fs_femalesX = perform_pca(fs_out_femalesX, chrX_females, 10, meta_data_females) "
   ]
  },
  {
   "cell_type": "code",
   "execution_count": null,
   "id": "floral-gallery",
   "metadata": {},
   "outputs": [],
   "source": [
    "var_expl(fs_femalesX[1])"
   ]
  },
  {
   "cell_type": "code",
   "execution_count": null,
   "id": "juvenile-wiring",
   "metadata": {},
   "outputs": [],
   "source": [
    "plot_fs_pca(fs_femalesX[0], fs_femalesX[1], 1, 2, 'X', 'Females')"
   ]
  },
  {
   "cell_type": "markdown",
   "id": "latter-builder",
   "metadata": {},
   "source": [
    "##### Males"
   ]
  },
  {
   "cell_type": "code",
   "execution_count": null,
   "id": "swiss-blackberry",
   "metadata": {},
   "outputs": [],
   "source": [
    "fs_males7 = perform_pca(fs_out_males7, chr7_males, 10, meta_data_males) "
   ]
  },
  {
   "cell_type": "code",
   "execution_count": null,
   "id": "greenhouse-consumer",
   "metadata": {},
   "outputs": [],
   "source": [
    "var_expl(fs_males7[1])"
   ]
  },
  {
   "cell_type": "code",
   "execution_count": null,
   "id": "protecting-dealer",
   "metadata": {},
   "outputs": [],
   "source": [
    "plot_fs_pca(fs_males7[0], fs_males7[1], 1, 2, '7', 'Males')"
   ]
  },
  {
   "cell_type": "code",
   "execution_count": null,
   "id": "rapid-theta",
   "metadata": {},
   "outputs": [],
   "source": [
    "fs_malesX = perform_pca(fs_out_malesX, chrX_males, 10, meta_data_males) "
   ]
  },
  {
   "cell_type": "code",
   "execution_count": null,
   "id": "pending-canyon",
   "metadata": {},
   "outputs": [],
   "source": [
    "var_expl(fs_malesX[1])"
   ]
  },
  {
   "cell_type": "code",
   "execution_count": null,
   "id": "disabled-territory",
   "metadata": {},
   "outputs": [],
   "source": [
    "plot_fs_pca(fs_malesX[0], fs_malesX[1], 1, 2, 'X', 'Males')"
   ]
  },
  {
   "cell_type": "code",
   "execution_count": null,
   "id": "waiting-incidence",
   "metadata": {},
   "outputs": [],
   "source": [
    "plot_fs_pca(fs_malesX[0], fs_malesX[1], 2, 3)"
   ]
  }
 ],
 "metadata": {
  "kernelspec": {
   "display_name": "Python 3",
   "language": "python",
   "name": "python3"
  },
  "language_info": {
   "codemirror_mode": {
    "name": "ipython",
    "version": 3
   },
   "file_extension": ".py",
   "mimetype": "text/x-python",
   "name": "python",
   "nbconvert_exporter": "python",
   "pygments_lexer": "ipython3",
   "version": "3.7.10"
  }
 },
 "nbformat": 4,
 "nbformat_minor": 5
}

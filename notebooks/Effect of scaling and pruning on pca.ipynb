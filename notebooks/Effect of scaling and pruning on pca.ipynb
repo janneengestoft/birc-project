{
 "cells": [
  {
   "cell_type": "code",
   "execution_count": 1,
   "id": "appropriate-davis",
   "metadata": {},
   "outputs": [],
   "source": [
    "from matplotlib import pyplot as plt"
   ]
  },
  {
   "cell_type": "code",
   "execution_count": 2,
   "id": "relative-classics",
   "metadata": {},
   "outputs": [],
   "source": [
    "from mpl_toolkits.mplot3d import Axes3D\n",
    "from mpl_toolkits.mplot3d import proj3d"
   ]
  },
  {
   "cell_type": "code",
   "execution_count": 3,
   "id": "periodic-grenada",
   "metadata": {},
   "outputs": [],
   "source": [
    "from matplotlib.patches import FancyArrowPatch"
   ]
  },
  {
   "cell_type": "code",
   "execution_count": 4,
   "id": "academic-soundtrack",
   "metadata": {},
   "outputs": [],
   "source": [
    "%matplotlib widget\n",
    "from IPython.display import set_matplotlib_formats\n",
    "set_matplotlib_formats('retina', 'png')"
   ]
  },
  {
   "cell_type": "code",
   "execution_count": 5,
   "id": "fixed-pound",
   "metadata": {},
   "outputs": [],
   "source": [
    "from sklearn.decomposition import PCA as sklearnPCA\n",
    "from sklearn.preprocessing import StandardScaler\n",
    "from sklearn.pipeline import make_pipeline\n",
    "from sklearn.datasets import load_digits\n",
    "from sklearn.model_selection import train_test_split"
   ]
  },
  {
   "cell_type": "code",
   "execution_count": 6,
   "id": "challenging-october",
   "metadata": {},
   "outputs": [],
   "source": [
    "import allel\n",
    "import numpy as np\n",
    "import pandas as pd\n",
    "import seaborn as sns\n",
    "import umap"
   ]
  },
  {
   "cell_type": "markdown",
   "id": "rubber-dayton",
   "metadata": {},
   "source": [
    "## PCA using scikit-learn\n",
    "\n",
    "http://alimanfoo.github.io/2015/09/28/fast-pca.html\n",
    "\n",
    "The data:"
   ]
  },
  {
   "cell_type": "code",
   "execution_count": 7,
   "id": "dynamic-prior",
   "metadata": {},
   "outputs": [],
   "source": [
    "vcf = allel.read_vcf('../steps/recode_vcf/chr7_females.recode.vcf')"
   ]
  },
  {
   "cell_type": "code",
   "execution_count": 8,
   "id": "tutorial-mirror",
   "metadata": {},
   "outputs": [],
   "source": [
    "pop = pd.read_table('../data/females.txt', delimiter = '\\t', header = None,\n",
    "                   names = ['Individual', 'Population'])"
   ]
  },
  {
   "cell_type": "code",
   "execution_count": 9,
   "id": "answering-challenge",
   "metadata": {},
   "outputs": [
    {
     "data": {
      "text/html": [
       "<div class=\"allel allel-DisplayAs2D\"><span>&lt;GenotypeArray shape=(5497845, 99, 2) dtype=int8&gt;</span><table><thead><tr><th></th><th style=\"text-align: center\">0</th><th style=\"text-align: center\">1</th><th style=\"text-align: center\">2</th><th style=\"text-align: center\">3</th><th style=\"text-align: center\">4</th><th style=\"text-align: center\">...</th><th style=\"text-align: center\">94</th><th style=\"text-align: center\">95</th><th style=\"text-align: center\">96</th><th style=\"text-align: center\">97</th><th style=\"text-align: center\">98</th></tr></thead><tbody><tr><th style=\"text-align: center; background-color: white; border-right: 1px solid black; \">0</th><td style=\"text-align: center\">0/1</td><td style=\"text-align: center\">0/1</td><td style=\"text-align: center\">0/1</td><td style=\"text-align: center\">0/1</td><td style=\"text-align: center\">0/1</td><td style=\"text-align: center\">...</td><td style=\"text-align: center\">0/1</td><td style=\"text-align: center\">0/1</td><td style=\"text-align: center\">0/1</td><td style=\"text-align: center\">0/1</td><td style=\"text-align: center\">0/1</td></tr><tr><th style=\"text-align: center; background-color: white; border-right: 1px solid black; \">1</th><td style=\"text-align: center\">0/0</td><td style=\"text-align: center\">0/0</td><td style=\"text-align: center\">0/0</td><td style=\"text-align: center\">0/0</td><td style=\"text-align: center\">0/0</td><td style=\"text-align: center\">...</td><td style=\"text-align: center\">0/0</td><td style=\"text-align: center\">0/0</td><td style=\"text-align: center\">0/0</td><td style=\"text-align: center\">0/0</td><td style=\"text-align: center\">0/0</td></tr><tr><th style=\"text-align: center; background-color: white; border-right: 1px solid black; \">2</th><td style=\"text-align: center\">0/1</td><td style=\"text-align: center\">0/1</td><td style=\"text-align: center\">0/1</td><td style=\"text-align: center\">0/1</td><td style=\"text-align: center\">0/1</td><td style=\"text-align: center\">...</td><td style=\"text-align: center\">0/0</td><td style=\"text-align: center\">0/0</td><td style=\"text-align: center\">0/1</td><td style=\"text-align: center\">0/0</td><td style=\"text-align: center\">0/1</td></tr><tr><th style=\"text-align: center; background-color: white; border-right: 1px solid black; \">...</th><td style=\"text-align: center\" colspan=\"12\">...</td></tr><tr><th style=\"text-align: center; background-color: white; border-right: 1px solid black; \">5497842</th><td style=\"text-align: center\">./.</td><td style=\"text-align: center\">0/0</td><td style=\"text-align: center\">0/0</td><td style=\"text-align: center\">./.</td><td style=\"text-align: center\">./.</td><td style=\"text-align: center\">...</td><td style=\"text-align: center\">./.</td><td style=\"text-align: center\">./.</td><td style=\"text-align: center\">./.</td><td style=\"text-align: center\">./.</td><td style=\"text-align: center\">./.</td></tr><tr><th style=\"text-align: center; background-color: white; border-right: 1px solid black; \">5497843</th><td style=\"text-align: center\">./.</td><td style=\"text-align: center\">./.</td><td style=\"text-align: center\">0/0</td><td style=\"text-align: center\">./.</td><td style=\"text-align: center\">./.</td><td style=\"text-align: center\">...</td><td style=\"text-align: center\">0/0</td><td style=\"text-align: center\">0/0</td><td style=\"text-align: center\">0/0</td><td style=\"text-align: center\">0/0</td><td style=\"text-align: center\">./.</td></tr><tr><th style=\"text-align: center; background-color: white; border-right: 1px solid black; \">5497844</th><td style=\"text-align: center\">./.</td><td style=\"text-align: center\">./.</td><td style=\"text-align: center\">./.</td><td style=\"text-align: center\">./.</td><td style=\"text-align: center\">./.</td><td style=\"text-align: center\">...</td><td style=\"text-align: center\">./.</td><td style=\"text-align: center\">./.</td><td style=\"text-align: center\">./.</td><td style=\"text-align: center\">./.</td><td style=\"text-align: center\">./.</td></tr></tbody></table></div>"
      ],
      "text/plain": [
       "<GenotypeArray shape=(5497845, 99, 2) dtype=int8>\n",
       "0/1 0/1 0/1 0/1 0/1 ... 0/1 0/1 0/1 0/1 0/1\n",
       "0/0 0/0 0/0 0/0 0/0 ... 0/0 0/0 0/0 0/0 0/0\n",
       "0/1 0/1 0/1 0/1 0/1 ... 0/0 0/0 0/1 0/0 0/1\n",
       "...\n",
       "./. 0/0 0/0 ./. ./. ... ./. ./. ./. ./. ./.\n",
       "./. ./. 0/0 ./. ./. ... 0/0 0/0 0/0 0/0 ./.\n",
       "./. ./. ./. ./. ./. ... ./. ./. ./. ./. ./."
      ]
     },
     "execution_count": 9,
     "metadata": {},
     "output_type": "execute_result"
    }
   ],
   "source": [
    "gt = allel.GenotypeArray(vcf['calldata/GT'])\n",
    "gt"
   ]
  },
  {
   "cell_type": "code",
   "execution_count": 10,
   "id": "received-queue",
   "metadata": {},
   "outputs": [
    {
     "data": {
      "text/html": [
       "<div class=\"allel allel-DisplayAs2D\"><span>&lt;AlleleCountsArray shape=(5497845, 5) dtype=int32&gt;</span><table><thead><tr><th></th><th style=\"text-align: center\">0</th><th style=\"text-align: center\">1</th><th style=\"text-align: center\">2</th><th style=\"text-align: center\">3</th><th style=\"text-align: center\">4</th></tr></thead><tbody><tr><th style=\"text-align: center; background-color: white; border-right: 1px solid black; \">0</th><td style=\"text-align: center\">105</td><td style=\"text-align: center\"> 93</td><td style=\"text-align: center\">  0</td><td style=\"text-align: center\">  0</td><td style=\"text-align: center\">  0</td></tr><tr><th style=\"text-align: center; background-color: white; border-right: 1px solid black; \">1</th><td style=\"text-align: center\">198</td><td style=\"text-align: center\">  0</td><td style=\"text-align: center\">  0</td><td style=\"text-align: center\">  0</td><td style=\"text-align: center\">  0</td></tr><tr><th style=\"text-align: center; background-color: white; border-right: 1px solid black; \">2</th><td style=\"text-align: center\">157</td><td style=\"text-align: center\"> 40</td><td style=\"text-align: center\">  1</td><td style=\"text-align: center\">  0</td><td style=\"text-align: center\">  0</td></tr><tr><th style=\"text-align: center; background-color: white; border-right: 1px solid black; \">...</th><td style=\"text-align: center\" colspan=\"6\">...</td></tr><tr><th style=\"text-align: center; background-color: white; border-right: 1px solid black; \">5497842</th><td style=\"text-align: center\">132</td><td style=\"text-align: center\">  0</td><td style=\"text-align: center\">  0</td><td style=\"text-align: center\">  0</td><td style=\"text-align: center\">  0</td></tr><tr><th style=\"text-align: center; background-color: white; border-right: 1px solid black; \">5497843</th><td style=\"text-align: center\">173</td><td style=\"text-align: center\">  1</td><td style=\"text-align: center\">  0</td><td style=\"text-align: center\">  0</td><td style=\"text-align: center\">  0</td></tr><tr><th style=\"text-align: center; background-color: white; border-right: 1px solid black; \">5497844</th><td style=\"text-align: center\">  0</td><td style=\"text-align: center\">  0</td><td style=\"text-align: center\">  0</td><td style=\"text-align: center\">  0</td><td style=\"text-align: center\">  0</td></tr></tbody></table></div>"
      ],
      "text/plain": [
       "<AlleleCountsArray shape=(5497845, 5) dtype=int32>\n",
       "105  93   0   0   0\n",
       "198   0   0   0   0\n",
       "157  40   1   0   0\n",
       "...\n",
       "132   0   0   0   0\n",
       "173   1   0   0   0\n",
       "  0   0   0   0   0"
      ]
     },
     "execution_count": 10,
     "metadata": {},
     "output_type": "execute_result"
    }
   ],
   "source": [
    "ac = gt.count_alleles()\n",
    "ac"
   ]
  },
  {
   "cell_type": "markdown",
   "id": "corporate-salvation",
   "metadata": {},
   "source": [
    "Removing singletons and multiallelic SNPs."
   ]
  },
  {
   "cell_type": "code",
   "execution_count": 11,
   "id": "municipal-trance",
   "metadata": {},
   "outputs": [
    {
     "data": {
      "text/html": [
       "<div class=\"allel allel-DisplayAs2D\"><span>&lt;GenotypeArray shape=(2949631, 99, 2) dtype=int8&gt;</span><table><thead><tr><th></th><th style=\"text-align: center\">0</th><th style=\"text-align: center\">1</th><th style=\"text-align: center\">2</th><th style=\"text-align: center\">3</th><th style=\"text-align: center\">4</th><th style=\"text-align: center\">...</th><th style=\"text-align: center\">94</th><th style=\"text-align: center\">95</th><th style=\"text-align: center\">96</th><th style=\"text-align: center\">97</th><th style=\"text-align: center\">98</th></tr></thead><tbody><tr><th style=\"text-align: center; background-color: white; border-right: 1px solid black; \">0</th><td style=\"text-align: center\">0/1</td><td style=\"text-align: center\">0/1</td><td style=\"text-align: center\">0/1</td><td style=\"text-align: center\">0/1</td><td style=\"text-align: center\">0/1</td><td style=\"text-align: center\">...</td><td style=\"text-align: center\">0/1</td><td style=\"text-align: center\">0/1</td><td style=\"text-align: center\">0/1</td><td style=\"text-align: center\">0/1</td><td style=\"text-align: center\">0/1</td></tr><tr><th style=\"text-align: center; background-color: white; border-right: 1px solid black; \">1</th><td style=\"text-align: center\">0/0</td><td style=\"text-align: center\">0/0</td><td style=\"text-align: center\">1/1</td><td style=\"text-align: center\">1/1</td><td style=\"text-align: center\">0/1</td><td style=\"text-align: center\">...</td><td style=\"text-align: center\">0/1</td><td style=\"text-align: center\">0/1</td><td style=\"text-align: center\">0/1</td><td style=\"text-align: center\">0/1</td><td style=\"text-align: center\">0/1</td></tr><tr><th style=\"text-align: center; background-color: white; border-right: 1px solid black; \">2</th><td style=\"text-align: center\">0/0</td><td style=\"text-align: center\">0/0</td><td style=\"text-align: center\">0/0</td><td style=\"text-align: center\">0/0</td><td style=\"text-align: center\">0/0</td><td style=\"text-align: center\">...</td><td style=\"text-align: center\">0/0</td><td style=\"text-align: center\">0/0</td><td style=\"text-align: center\">0/0</td><td style=\"text-align: center\">0/0</td><td style=\"text-align: center\">0/0</td></tr><tr><th style=\"text-align: center; background-color: white; border-right: 1px solid black; \">...</th><td style=\"text-align: center\" colspan=\"12\">...</td></tr><tr><th style=\"text-align: center; background-color: white; border-right: 1px solid black; \">2949628</th><td style=\"text-align: center\">./.</td><td style=\"text-align: center\">./.</td><td style=\"text-align: center\">0/0</td><td style=\"text-align: center\">./.</td><td style=\"text-align: center\">0/0</td><td style=\"text-align: center\">...</td><td style=\"text-align: center\">0/0</td><td style=\"text-align: center\">0/0</td><td style=\"text-align: center\">./.</td><td style=\"text-align: center\">./.</td><td style=\"text-align: center\">./.</td></tr><tr><th style=\"text-align: center; background-color: white; border-right: 1px solid black; \">2949629</th><td style=\"text-align: center\">./.</td><td style=\"text-align: center\">./.</td><td style=\"text-align: center\">0/0</td><td style=\"text-align: center\">./.</td><td style=\"text-align: center\">0/0</td><td style=\"text-align: center\">...</td><td style=\"text-align: center\">0/0</td><td style=\"text-align: center\">0/0</td><td style=\"text-align: center\">0/0</td><td style=\"text-align: center\">0/0</td><td style=\"text-align: center\">0/0</td></tr><tr><th style=\"text-align: center; background-color: white; border-right: 1px solid black; \">2949630</th><td style=\"text-align: center\">0/0</td><td style=\"text-align: center\">0/0</td><td style=\"text-align: center\">0/0</td><td style=\"text-align: center\">0/0</td><td style=\"text-align: center\">./.</td><td style=\"text-align: center\">...</td><td style=\"text-align: center\">./.</td><td style=\"text-align: center\">1/1</td><td style=\"text-align: center\">./.</td><td style=\"text-align: center\">./.</td><td style=\"text-align: center\">./.</td></tr></tbody></table></div>"
      ],
      "text/plain": [
       "<GenotypeArray shape=(2949631, 99, 2) dtype=int8>\n",
       "0/1 0/1 0/1 0/1 0/1 ... 0/1 0/1 0/1 0/1 0/1\n",
       "0/0 0/0 1/1 1/1 0/1 ... 0/1 0/1 0/1 0/1 0/1\n",
       "0/0 0/0 0/0 0/0 0/0 ... 0/0 0/0 0/0 0/0 0/0\n",
       "...\n",
       "./. ./. 0/0 ./. 0/0 ... 0/0 0/0 ./. ./. ./.\n",
       "./. ./. 0/0 ./. 0/0 ... 0/0 0/0 0/0 0/0 0/0\n",
       "0/0 0/0 0/0 0/0 ./. ... ./. 1/1 ./. ./. ./."
      ]
     },
     "execution_count": 11,
     "metadata": {},
     "output_type": "execute_result"
    }
   ],
   "source": [
    "flt = (ac.max_allele() == 1) & (ac[:, :2].min(axis=1) > 1)\n",
    "gf = gt.compress(flt, axis=0)\n",
    "gf"
   ]
  },
  {
   "cell_type": "markdown",
   "id": "framed-ebony",
   "metadata": {},
   "source": [
    "The final input for sklearnPCA:"
   ]
  },
  {
   "cell_type": "code",
   "execution_count": 12,
   "id": "subsequent-nursery",
   "metadata": {
    "scrolled": true
   },
   "outputs": [
    {
     "data": {
      "text/plain": [
       "array([[1, 1, 1, ..., 1, 1, 1],\n",
       "       [0, 0, 2, ..., 1, 1, 1],\n",
       "       [0, 0, 0, ..., 0, 0, 0],\n",
       "       ...,\n",
       "       [0, 0, 0, ..., 0, 0, 0],\n",
       "       [0, 0, 0, ..., 0, 0, 0],\n",
       "       [0, 0, 0, ..., 0, 0, 0]], dtype=int8)"
      ]
     },
     "execution_count": 12,
     "metadata": {},
     "output_type": "execute_result"
    }
   ],
   "source": [
    "gn = gf.to_n_alt()\n",
    "gn"
   ]
  },
  {
   "cell_type": "code",
   "execution_count": null,
   "id": "contained-environment",
   "metadata": {},
   "outputs": [],
   "source": [
    "sklearn_pca = sklearnPCA(n_components=2)\n",
    "sklearn_transf = sklearn_pca.fit_transform(gn.T)"
   ]
  },
  {
   "cell_type": "code",
   "execution_count": null,
   "id": "broken-tuning",
   "metadata": {},
   "outputs": [],
   "source": [
    "pc1_var = sklearn_pca.explained_variance_ratio_[0].round(decimals=3)*100\n",
    "pc2_var = sklearn_pca.explained_variance_ratio_[1].round(decimals=3)*100"
   ]
  },
  {
   "cell_type": "markdown",
   "id": "black-klein",
   "metadata": {},
   "source": [
    "Creating a dataframe from the resulting array and adding population names to each individual"
   ]
  },
  {
   "cell_type": "code",
   "execution_count": null,
   "id": "challenging-uniform",
   "metadata": {},
   "outputs": [],
   "source": [
    "principal_df = pd.DataFrame(data = sklearn_transf, \n",
    "                           columns = ['PC1', 'PC2'])"
   ]
  },
  {
   "cell_type": "code",
   "execution_count": null,
   "id": "adolescent-investigation",
   "metadata": {},
   "outputs": [],
   "source": [
    "final_df = pd.concat([principal_df, pop[['Population']]], axis = 1)\n",
    "final_df"
   ]
  },
  {
   "cell_type": "code",
   "execution_count": null,
   "id": "stretch-virtue",
   "metadata": {},
   "outputs": [],
   "source": [
    "fig, ax = plt.subplots(figsize = (6,5))\n",
    "\n",
    "groups = final_df.groupby('Population')\n",
    "for name, group in groups:\n",
    "    ax.scatter(group['PC1'], group['PC2'], label=name)\n",
    "\n",
    "ax.set_xlabel('Principal Component 1 ({}%)'.format(pc1_var), fontsize = 10)\n",
    "ax.set_ylabel('Principal Component 2 ({}%)'.format(pc2_var), fontsize = 10)\n",
    "ax.set_title('Chromosome 7: Females', fontsize = 15)\n",
    "ax.legend()\n",
    "plt.show()"
   ]
  },
  {
   "cell_type": "markdown",
   "id": "powered-frontier",
   "metadata": {},
   "source": [
    "### Effect of pruning"
   ]
  },
  {
   "cell_type": "code",
   "execution_count": null,
   "id": "exterior-career",
   "metadata": {},
   "outputs": [],
   "source": [
    "def plot_ld(gn, title):\n",
    "    m = allel.rogers_huff_r(gn) ** 2\n",
    "    ax = allel.plot_pairwise_ld(m)\n",
    "    ax.set_title(title)\n",
    "    ax.figure.set_size_inches(5, 5)\n",
    "    plt.show()"
   ]
  },
  {
   "cell_type": "code",
   "execution_count": null,
   "id": "separate-triangle",
   "metadata": {},
   "outputs": [],
   "source": [
    "plot_ld(gn[:1000], 'Figure 1. Pairwise LD.')"
   ]
  },
  {
   "cell_type": "code",
   "execution_count": null,
   "id": "english-thompson",
   "metadata": {},
   "outputs": [],
   "source": [
    "def ld_prune(gn, size, step, threshold=.1, n_iter=1):\n",
    "    for i in range(n_iter):\n",
    "        loc_unlinked = allel.locate_unlinked(gn, size=size, step=step, threshold=threshold)\n",
    "        n = np.count_nonzero(loc_unlinked)\n",
    "        n_remove = gn.shape[0] - n\n",
    "        print('iteration', i+1, 'retaining', n, 'removing', n_remove, 'variants')\n",
    "        gn = gn.compress(loc_unlinked, axis=0)\n",
    "    return gn"
   ]
  },
  {
   "cell_type": "code",
   "execution_count": null,
   "id": "fitted-sperm",
   "metadata": {},
   "outputs": [],
   "source": [
    "gnu = ld_prune(gn, size=500, step=200, threshold=.1, n_iter=5)"
   ]
  },
  {
   "cell_type": "code",
   "execution_count": null,
   "id": "behavioral-burlington",
   "metadata": {},
   "outputs": [],
   "source": [
    "plot_ld(gnu[:1000], 'Figure 2. Pairwise LD after LD pruning.')"
   ]
  },
  {
   "cell_type": "code",
   "execution_count": null,
   "id": "judicial-capacity",
   "metadata": {},
   "outputs": [],
   "source": [
    "# Performing the PCA analysis again\n",
    "sklearn_pca_pruned = sklearnPCA(n_components=2)\n",
    "pruned_pca = sklearn_pca_pruned.fit_transform(gnu.T)\n",
    "\n",
    "# Creating a dataframe and adding population names\n",
    "principal_pruned = pd.DataFrame(data = pruned_pca, \n",
    "                           columns = ['PC1', 'PC2'])\n",
    "final_pruned = pd.concat([principal_pruned, pop[['Population']]], axis = 1)\n",
    "\n",
    "# Percentage variance explained\n",
    "pruned_pc1_var = sklearn_pca_pruned.explained_variance_ratio_[0].round(decimals=3)*100\n",
    "pruned_pc2_var = sklearn_pca_pruned.explained_variance_ratio_[1].round(decimals=3)*100"
   ]
  },
  {
   "cell_type": "code",
   "execution_count": null,
   "id": "proved-animation",
   "metadata": {},
   "outputs": [],
   "source": [
    "fig, ax = plt.subplots(figsize = (6,5))\n",
    "\n",
    "groups = final_pruned.groupby('Population')\n",
    "for name, group in groups:\n",
    "    ax.scatter(group['PC1'], group['PC2'], label=name)\n",
    "\n",
    "ax.set_xlabel('Principal Component 1 ({}%)'.format(pruned_pc1_var), fontsize = 10)\n",
    "ax.set_ylabel('Principal Component 2 ({}%)'.format(pruned_pc2_var), fontsize = 10)\n",
    "ax.set_title('Pruned chromosome 7: Females', fontsize = 15)\n",
    "ax.legend()\n",
    "plt.show()"
   ]
  },
  {
   "cell_type": "markdown",
   "id": "dramatic-library",
   "metadata": {},
   "source": [
    "### Effect of scaling\n",
    "\n",
    "Performing the PCA analysis with scaling"
   ]
  },
  {
   "cell_type": "code",
   "execution_count": null,
   "id": "integral-retailer",
   "metadata": {},
   "outputs": [],
   "source": [
    "gn.shape"
   ]
  },
  {
   "cell_type": "code",
   "execution_count": null,
   "id": "affected-challenge",
   "metadata": {},
   "outputs": [],
   "source": [
    "pipeline = make_pipeline(StandardScaler(), sklearnPCA(n_components=2))\n",
    "scaled_data_transf = pipeline.fit_transform(gn[:1800000, :].T)"
   ]
  },
  {
   "cell_type": "markdown",
   "id": "expanded-capability",
   "metadata": {},
   "source": [
    "Creating a dataframe and adding population names"
   ]
  },
  {
   "cell_type": "code",
   "execution_count": null,
   "id": "acting-amazon",
   "metadata": {},
   "outputs": [],
   "source": [
    "principal_scaled = pd.DataFrame(data = scaled_data_transf, \n",
    "                           columns = ['PC1', 'PC2'])\n",
    "final_scaled = pd.concat([principal_scaled, pop[['Population']]], axis = 1)"
   ]
  },
  {
   "cell_type": "markdown",
   "id": "antique-imagination",
   "metadata": {},
   "source": [
    "Percentage variance explained"
   ]
  },
  {
   "cell_type": "code",
   "execution_count": null,
   "id": "pretty-breeding",
   "metadata": {},
   "outputs": [],
   "source": [
    "pca = pipeline.get_params()['pca']"
   ]
  },
  {
   "cell_type": "code",
   "execution_count": null,
   "id": "aggressive-undergraduate",
   "metadata": {},
   "outputs": [],
   "source": [
    "scaled_pc1_var = pca.explained_variance_ratio_[0].round(decimals=3)*100\n",
    "scaled_pc2_var = pca.explained_variance_ratio_[1].round(decimals=3)*100"
   ]
  },
  {
   "cell_type": "markdown",
   "id": "fuzzy-castle",
   "metadata": {},
   "source": [
    "Plotting the result"
   ]
  },
  {
   "cell_type": "code",
   "execution_count": null,
   "id": "white-mayor",
   "metadata": {},
   "outputs": [],
   "source": [
    "fig, ax = plt.subplots(figsize = (6,5))\n",
    "\n",
    "groups = final_scaled.groupby('Population')\n",
    "for name, group in groups:\n",
    "    ax.scatter(group['PC1'], group['PC2'], label=name)\n",
    "\n",
    "ax.set_xlabel('Principal Component 1 ({}%)'.format(scaled_pc1_var), fontsize = 10)\n",
    "ax.set_ylabel('Principal Component 2 ({}%)'.format(scaled_pc2_var), fontsize = 10)\n",
    "ax.set_title('Scaled chromosome 7: Females', fontsize = 15)\n",
    "ax.legend()\n",
    "plt.show()"
   ]
  },
  {
   "cell_type": "markdown",
   "id": "outer-component",
   "metadata": {},
   "source": [
    "### Applying both pruning and scaling"
   ]
  },
  {
   "cell_type": "code",
   "execution_count": null,
   "id": "sealed-delhi",
   "metadata": {},
   "outputs": [],
   "source": [
    "scaled_pruned = pipeline.fit_transform(gnu.T)"
   ]
  },
  {
   "cell_type": "code",
   "execution_count": null,
   "id": "former-custom",
   "metadata": {},
   "outputs": [],
   "source": [
    "principal_scaled_pruned = pd.DataFrame(data = scaled_pruned, \n",
    "                           columns = ['PC1', 'PC2'])\n",
    "final_scaled_pruned = pd.concat([principal_scaled_pruned, pop[['Population']]], axis = 1)"
   ]
  },
  {
   "cell_type": "code",
   "execution_count": null,
   "id": "compressed-brave",
   "metadata": {},
   "outputs": [],
   "source": [
    "pca = pipeline.get_params()['pca']\n",
    "scaled_pruned_pc1_var = pca.explained_variance_ratio_[0].round(decimals=3)*100\n",
    "scaled_pruned_pc2_var = pca.explained_variance_ratio_[1].round(decimals=3)*100"
   ]
  },
  {
   "cell_type": "code",
   "execution_count": null,
   "id": "ordinary-breathing",
   "metadata": {},
   "outputs": [],
   "source": [
    "fig, ax = plt.subplots(figsize = (6,5))\n",
    "\n",
    "groups = final_scaled_pruned.groupby('Population')\n",
    "for name, group in groups:\n",
    "    ax.scatter(group['PC1'], group['PC2'], label=name)\n",
    "\n",
    "ax.set_xlabel('Principal Component 1 ({}%)'.format(scaled_pruned_pc1_var), fontsize = 10)\n",
    "ax.set_ylabel('Principal Component 2 ({}%)'.format(scaled_pruned_pc2_var), fontsize = 10)\n",
    "ax.set_title('Scaled & pruned chromosome 7: Females', fontsize = 15)\n",
    "ax.legend()\n",
    "plt.show()"
   ]
  }
 ],
 "metadata": {
  "kernelspec": {
   "display_name": "Python 3",
   "language": "python",
   "name": "python3"
  },
  "language_info": {
   "codemirror_mode": {
    "name": "ipython",
    "version": 3
   },
   "file_extension": ".py",
   "mimetype": "text/x-python",
   "name": "python",
   "nbconvert_exporter": "python",
   "pygments_lexer": "ipython3",
   "version": "3.7.10"
  }
 },
 "nbformat": 4,
 "nbformat_minor": 5
}

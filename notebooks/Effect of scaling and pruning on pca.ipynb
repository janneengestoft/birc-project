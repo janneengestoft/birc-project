{
 "cells": [
  {
   "cell_type": "code",
   "execution_count": 25,
   "id": "appropriate-davis",
   "metadata": {},
   "outputs": [],
   "source": [
    "from matplotlib import pyplot as plt"
   ]
  },
  {
   "cell_type": "code",
   "execution_count": 26,
   "id": "relative-classics",
   "metadata": {},
   "outputs": [],
   "source": [
    "from mpl_toolkits.mplot3d import Axes3D\n",
    "from mpl_toolkits.mplot3d import proj3d"
   ]
  },
  {
   "cell_type": "code",
   "execution_count": 27,
   "id": "periodic-grenada",
   "metadata": {},
   "outputs": [],
   "source": [
    "from matplotlib.patches import FancyArrowPatch"
   ]
  },
  {
   "cell_type": "code",
   "execution_count": 28,
   "id": "academic-soundtrack",
   "metadata": {},
   "outputs": [],
   "source": [
    "%matplotlib widget\n",
    "\n",
    "# Make inline plots vector graphics instead of raster graphics\n",
    "from IPython.display import set_matplotlib_formats\n",
    "set_matplotlib_formats('retina', 'png')"
   ]
  },
  {
   "cell_type": "code",
   "execution_count": 29,
   "id": "fixed-pound",
   "metadata": {},
   "outputs": [],
   "source": [
    "from sklearn.decomposition import PCA as sklearnPCA\n",
    "from sklearn.preprocessing import StandardScaler\n",
    "from sklearn.pipeline import make_pipeline\n",
    "from sklearn.datasets import load_digits\n",
    "from sklearn.model_selection import train_test_split"
   ]
  },
  {
   "cell_type": "code",
   "execution_count": 30,
   "id": "challenging-october",
   "metadata": {},
   "outputs": [],
   "source": [
    "import allel\n",
    "import numpy as np\n",
    "import pandas as pd\n",
    "import seaborn as sns\n",
    "import umap"
   ]
  },
  {
   "cell_type": "markdown",
   "id": "rubber-dayton",
   "metadata": {},
   "source": [
    "## PCA using scikit-learn\n",
    "\n",
    "http://alimanfoo.github.io/2015/09/28/fast-pca.html\n",
    "\n",
    "The data:"
   ]
  },
  {
   "cell_type": "code",
   "execution_count": null,
   "id": "dynamic-prior",
   "metadata": {},
   "outputs": [],
   "source": [
    "vcf = allel.read_vcf('../steps/recode_vcf/chr7_females.recode.vcf')"
   ]
  },
  {
   "cell_type": "code",
   "execution_count": null,
   "id": "tutorial-mirror",
   "metadata": {},
   "outputs": [],
   "source": [
    "pop = pd.read_table('../data/females.txt', delimiter = '\\t', header = None,\n",
    "                   names = ['Individual', 'Population'])"
   ]
  },
  {
   "cell_type": "code",
   "execution_count": null,
   "id": "answering-challenge",
   "metadata": {},
   "outputs": [],
   "source": [
    "gt = allel.GenotypeArray(vcf['calldata/GT'])\n",
    "gt"
   ]
  },
  {
   "cell_type": "code",
   "execution_count": null,
   "id": "received-queue",
   "metadata": {},
   "outputs": [],
   "source": [
    "ac = gt.count_alleles()\n",
    "ac"
   ]
  },
  {
   "cell_type": "markdown",
   "id": "corporate-salvation",
   "metadata": {},
   "source": [
    "Removing singletons and multiallelic SNPs."
   ]
  },
  {
   "cell_type": "code",
   "execution_count": null,
   "id": "municipal-trance",
   "metadata": {},
   "outputs": [],
   "source": [
    "flt = (ac.max_allele() == 1) & (ac[:, :2].min(axis=1) > 1)\n",
    "gf = gt.compress(flt, axis=0)\n",
    "gf"
   ]
  },
  {
   "cell_type": "markdown",
   "id": "framed-ebony",
   "metadata": {},
   "source": [
    "The final input for sklearnPCA:"
   ]
  },
  {
   "cell_type": "code",
   "execution_count": null,
   "id": "subsequent-nursery",
   "metadata": {
    "scrolled": true
   },
   "outputs": [],
   "source": [
    "gn = gf.to_n_alt()\n",
    "gn"
   ]
  },
  {
   "cell_type": "code",
   "execution_count": null,
   "id": "contained-environment",
   "metadata": {},
   "outputs": [],
   "source": [
    "sklearn_pca = sklearnPCA(n_components=2)\n",
    "sklearn_transf = sklearn_pca.fit_transform(gn.T)"
   ]
  },
  {
   "cell_type": "code",
   "execution_count": null,
   "id": "broken-tuning",
   "metadata": {},
   "outputs": [],
   "source": [
    "pc1_var = sklearn_pca.explained_variance_ratio_[0].round(decimals=3)*100\n",
    "pc2_var = sklearn_pca.explained_variance_ratio_[1].round(decimals=3)*100"
   ]
  },
  {
   "cell_type": "markdown",
   "id": "black-klein",
   "metadata": {},
   "source": [
    "Creating a dataframe from the resulting array and adding population names to each individual"
   ]
  },
  {
   "cell_type": "code",
   "execution_count": null,
   "id": "challenging-uniform",
   "metadata": {},
   "outputs": [],
   "source": [
    "principal_df = pd.DataFrame(data = sklearn_transf, \n",
    "                           columns = ['PC1', 'PC2'])"
   ]
  },
  {
   "cell_type": "code",
   "execution_count": null,
   "id": "adolescent-investigation",
   "metadata": {},
   "outputs": [],
   "source": [
    "final_df = pd.concat([principal_df, pop[['Population']]], axis = 1)\n",
    "final_df"
   ]
  },
  {
   "cell_type": "code",
   "execution_count": null,
   "id": "stretch-virtue",
   "metadata": {},
   "outputs": [],
   "source": [
    "fig, ax = plt.subplots(figsize = (6,5))\n",
    "\n",
    "groups = final_df.groupby('Population')\n",
    "for name, group in groups:\n",
    "    ax.scatter(group['PC1'], group['PC2'], label=name)\n",
    "\n",
    "ax.set_xlabel('Principal Component 1 ({}%)'.format(pc1_var), fontsize = 10)\n",
    "ax.set_ylabel('Principal Component 2 ({}%)'.format(pc2_var), fontsize = 10)\n",
    "ax.set_title('Chromosome 7: Females', fontsize = 15)\n",
    "ax.legend()\n",
    "plt.show()"
   ]
  },
  {
   "cell_type": "markdown",
   "id": "powered-frontier",
   "metadata": {},
   "source": [
    "### Effect of pruning"
   ]
  },
  {
   "cell_type": "code",
   "execution_count": null,
   "id": "exterior-career",
   "metadata": {},
   "outputs": [],
   "source": [
    "def plot_ld(gn, title):\n",
    "    m = allel.rogers_huff_r(gn) ** 2\n",
    "    ax = allel.plot_pairwise_ld(m)\n",
    "    ax.set_title(title)\n",
    "    ax.figure.set_size_inches(5, 5)\n",
    "    plt.show()"
   ]
  },
  {
   "cell_type": "code",
   "execution_count": null,
   "id": "separate-triangle",
   "metadata": {},
   "outputs": [],
   "source": [
    "plot_ld(gn[:1000], 'Figure 1. Pairwise LD.')"
   ]
  },
  {
   "cell_type": "code",
   "execution_count": null,
   "id": "english-thompson",
   "metadata": {},
   "outputs": [],
   "source": [
    "def ld_prune(gn, size, step, threshold=.1, n_iter=1):\n",
    "    for i in range(n_iter):\n",
    "        loc_unlinked = allel.locate_unlinked(gn, size=size, step=step, threshold=threshold)\n",
    "        n = np.count_nonzero(loc_unlinked)\n",
    "        n_remove = gn.shape[0] - n\n",
    "        print('iteration', i+1, 'retaining', n, 'removing', n_remove, 'variants')\n",
    "        gn = gn.compress(loc_unlinked, axis=0)\n",
    "    return gn"
   ]
  },
  {
   "cell_type": "code",
   "execution_count": null,
   "id": "fitted-sperm",
   "metadata": {},
   "outputs": [],
   "source": [
    "gnu = ld_prune(gn, size=500, step=200, threshold=.1, n_iter=5)"
   ]
  },
  {
   "cell_type": "code",
   "execution_count": null,
   "id": "behavioral-burlington",
   "metadata": {},
   "outputs": [],
   "source": [
    "plot_ld(gnu[:1000], 'Figure 2. Pairwise LD after LD pruning.')"
   ]
  },
  {
   "cell_type": "code",
   "execution_count": null,
   "id": "judicial-capacity",
   "metadata": {},
   "outputs": [],
   "source": [
    "# Performing the PCA analysis again\n",
    "sklearn_pca_pruned = sklearnPCA(n_components=2)\n",
    "pruned_pca = sklearn_pca_pruned.fit_transform(gnu.T)\n",
    "\n",
    "# Creating a dataframe and adding population names\n",
    "principal_pruned = pd.DataFrame(data = pruned_pca, \n",
    "                           columns = ['PC1', 'PC2'])\n",
    "final_pruned = pd.concat([principal_pruned, pop[['Population']]], axis = 1)\n",
    "\n",
    "# Percentage variance explained\n",
    "pruned_pc1_var = sklearn_pca_pruned.explained_variance_ratio_[0].round(decimals=3)*100\n",
    "pruned_pc2_var = sklearn_pca_pruned.explained_variance_ratio_[1].round(decimals=3)*100"
   ]
  },
  {
   "cell_type": "code",
   "execution_count": null,
   "id": "proved-animation",
   "metadata": {},
   "outputs": [],
   "source": [
    "fig, ax = plt.subplots(figsize = (6,5))\n",
    "\n",
    "groups = final_pruned.groupby('Population')\n",
    "for name, group in groups:\n",
    "    ax.scatter(group['PC1'], group['PC2'], label=name)\n",
    "\n",
    "ax.set_xlabel('Principal Component 1 ({}%)'.format(pruned_pc1_var), fontsize = 10)\n",
    "ax.set_ylabel('Principal Component 2 ({}%)'.format(pruned_pc2_var), fontsize = 10)\n",
    "ax.set_title('Pruned chromosome 7: Females', fontsize = 15)\n",
    "ax.legend()\n",
    "plt.show()"
   ]
  },
  {
   "cell_type": "markdown",
   "id": "dramatic-library",
   "metadata": {},
   "source": [
    "### Effect of scaling\n",
    "\n",
    "Performing the PCA analysis with scaling"
   ]
  },
  {
   "cell_type": "code",
   "execution_count": null,
   "id": "integral-retailer",
   "metadata": {},
   "outputs": [],
   "source": [
    "gn.shape"
   ]
  },
  {
   "cell_type": "code",
   "execution_count": null,
   "id": "affected-challenge",
   "metadata": {},
   "outputs": [],
   "source": [
    "pipeline = make_pipeline(StandardScaler(), sklearnPCA(n_components=2))\n",
    "scaled_data_transf = pipeline.fit_transform(gn[:1800000, :].T)"
   ]
  },
  {
   "cell_type": "markdown",
   "id": "expanded-capability",
   "metadata": {},
   "source": [
    "Creating a dataframe and adding population names"
   ]
  },
  {
   "cell_type": "code",
   "execution_count": null,
   "id": "acting-amazon",
   "metadata": {},
   "outputs": [],
   "source": [
    "principal_scaled = pd.DataFrame(data = scaled_data_transf, \n",
    "                           columns = ['PC1', 'PC2'])\n",
    "final_scaled = pd.concat([principal_scaled, pop[['Population']]], axis = 1)"
   ]
  },
  {
   "cell_type": "markdown",
   "id": "antique-imagination",
   "metadata": {},
   "source": [
    "Percentage variance explained"
   ]
  },
  {
   "cell_type": "code",
   "execution_count": null,
   "id": "pretty-breeding",
   "metadata": {},
   "outputs": [],
   "source": [
    "pca = pipeline.get_params()['pca']"
   ]
  },
  {
   "cell_type": "code",
   "execution_count": null,
   "id": "aggressive-undergraduate",
   "metadata": {},
   "outputs": [],
   "source": [
    "scaled_pc1_var = pca.explained_variance_ratio_[0].round(decimals=3)*100\n",
    "scaled_pc2_var = pca.explained_variance_ratio_[1].round(decimals=3)*100"
   ]
  },
  {
   "cell_type": "markdown",
   "id": "fuzzy-castle",
   "metadata": {},
   "source": [
    "Plotting the result"
   ]
  },
  {
   "cell_type": "code",
   "execution_count": null,
   "id": "white-mayor",
   "metadata": {},
   "outputs": [],
   "source": [
    "fig, ax = plt.subplots(figsize = (6,5))\n",
    "\n",
    "groups = final_scaled.groupby('Population')\n",
    "for name, group in groups:\n",
    "    ax.scatter(group['PC1'], group['PC2'], label=name)\n",
    "\n",
    "ax.set_xlabel('Principal Component 1 ({}%)'.format(scaled_pc1_var), fontsize = 10)\n",
    "ax.set_ylabel('Principal Component 2 ({}%)'.format(scaled_pc2_var), fontsize = 10)\n",
    "ax.set_title('Scaled chromosome 7: Females', fontsize = 15)\n",
    "ax.legend()\n",
    "plt.show()"
   ]
  },
  {
   "cell_type": "markdown",
   "id": "outer-component",
   "metadata": {},
   "source": [
    "### Applying both pruning and scaling"
   ]
  },
  {
   "cell_type": "code",
   "execution_count": null,
   "id": "sealed-delhi",
   "metadata": {},
   "outputs": [],
   "source": [
    "scaled_pruned = pipeline.fit_transform(gnu.T)"
   ]
  },
  {
   "cell_type": "code",
   "execution_count": null,
   "id": "former-custom",
   "metadata": {},
   "outputs": [],
   "source": [
    "principal_scaled_pruned = pd.DataFrame(data = scaled_pruned, \n",
    "                           columns = ['PC1', 'PC2'])\n",
    "final_scaled_pruned = pd.concat([principal_scaled_pruned, pop[['Population']]], axis = 1)"
   ]
  },
  {
   "cell_type": "code",
   "execution_count": null,
   "id": "compressed-brave",
   "metadata": {},
   "outputs": [],
   "source": [
    "pca = pipeline.get_params()['pca']\n",
    "scaled_pruned_pc1_var = pca.explained_variance_ratio_[0].round(decimals=3)*100\n",
    "scaled_pruned_pc2_var = pca.explained_variance_ratio_[1].round(decimals=3)*100"
   ]
  },
  {
   "cell_type": "code",
   "execution_count": null,
   "id": "ordinary-breathing",
   "metadata": {},
   "outputs": [],
   "source": [
    "fig, ax = plt.subplots(figsize = (6,5))\n",
    "\n",
    "groups = final_scaled_pruned.groupby('Population')\n",
    "for name, group in groups:\n",
    "    ax.scatter(group['PC1'], group['PC2'], label=name)\n",
    "\n",
    "ax.set_xlabel('Principal Component 1 ({}%)'.format(scaled_pruned_pc1_var), fontsize = 10)\n",
    "ax.set_ylabel('Principal Component 2 ({}%)'.format(scaled_pruned_pc2_var), fontsize = 10)\n",
    "ax.set_title('Scaled & pruned chromosome 7: Females', fontsize = 15)\n",
    "ax.legend()\n",
    "plt.show()"
   ]
  },
  {
   "cell_type": "markdown",
   "id": "union-doctrine",
   "metadata": {},
   "source": [
    "## UMAP"
   ]
  },
  {
   "cell_type": "code",
   "execution_count": null,
   "id": "passing-stereo",
   "metadata": {},
   "outputs": [],
   "source": [
    "sns.set(style='ticks', context='notebook', rc={'figure.figsize':(9,7)})"
   ]
  },
  {
   "cell_type": "code",
   "execution_count": null,
   "id": "drawn-programming",
   "metadata": {},
   "outputs": [],
   "source": [
    "# sns.pairplot(final_df, hue='Population')"
   ]
  },
  {
   "cell_type": "code",
   "execution_count": null,
   "id": "demographic-aspect",
   "metadata": {},
   "outputs": [],
   "source": [
    "reducer = umap.UMAP()"
   ]
  },
  {
   "cell_type": "code",
   "execution_count": 37,
   "id": "concrete-poster",
   "metadata": {},
   "outputs": [
    {
     "data": {
      "text/plain": [
       "(95, 2)"
      ]
     },
     "execution_count": 37,
     "metadata": {},
     "output_type": "execute_result"
    }
   ],
   "source": [
    "embedding = reducer.fit_transform(principal_scaled_pruned)\n",
    "embedding.shape"
   ]
  },
  {
   "cell_type": "code",
   "execution_count": 38,
   "id": "dietary-rover",
   "metadata": {},
   "outputs": [
    {
     "data": {
      "text/html": [
       "<div>\n",
       "<style scoped>\n",
       "    .dataframe tbody tr th:only-of-type {\n",
       "        vertical-align: middle;\n",
       "    }\n",
       "\n",
       "    .dataframe tbody tr th {\n",
       "        vertical-align: top;\n",
       "    }\n",
       "\n",
       "    .dataframe thead th {\n",
       "        text-align: right;\n",
       "    }\n",
       "</style>\n",
       "<table border=\"1\" class=\"dataframe\">\n",
       "  <thead>\n",
       "    <tr style=\"text-align: right;\">\n",
       "      <th></th>\n",
       "      <th>1</th>\n",
       "      <th>2</th>\n",
       "      <th>Population</th>\n",
       "    </tr>\n",
       "  </thead>\n",
       "  <tbody>\n",
       "    <tr>\n",
       "      <th>0</th>\n",
       "      <td>11.422564</td>\n",
       "      <td>6.299389</td>\n",
       "      <td>anubis</td>\n",
       "    </tr>\n",
       "    <tr>\n",
       "      <th>1</th>\n",
       "      <td>10.770736</td>\n",
       "      <td>5.878742</td>\n",
       "      <td>anubis</td>\n",
       "    </tr>\n",
       "    <tr>\n",
       "      <th>2</th>\n",
       "      <td>10.840323</td>\n",
       "      <td>6.126390</td>\n",
       "      <td>anubis</td>\n",
       "    </tr>\n",
       "    <tr>\n",
       "      <th>3</th>\n",
       "      <td>11.994856</td>\n",
       "      <td>6.382074</td>\n",
       "      <td>anubis</td>\n",
       "    </tr>\n",
       "    <tr>\n",
       "      <th>4</th>\n",
       "      <td>13.228243</td>\n",
       "      <td>6.602378</td>\n",
       "      <td>anubis</td>\n",
       "    </tr>\n",
       "    <tr>\n",
       "      <th>...</th>\n",
       "      <td>...</td>\n",
       "      <td>...</td>\n",
       "      <td>...</td>\n",
       "    </tr>\n",
       "    <tr>\n",
       "      <th>90</th>\n",
       "      <td>-2.923056</td>\n",
       "      <td>11.078491</td>\n",
       "      <td>kindae</td>\n",
       "    </tr>\n",
       "    <tr>\n",
       "      <th>91</th>\n",
       "      <td>-2.987473</td>\n",
       "      <td>10.944667</td>\n",
       "      <td>kindae</td>\n",
       "    </tr>\n",
       "    <tr>\n",
       "      <th>92</th>\n",
       "      <td>-2.892263</td>\n",
       "      <td>11.040895</td>\n",
       "      <td>kindae</td>\n",
       "    </tr>\n",
       "    <tr>\n",
       "      <th>93</th>\n",
       "      <td>-2.925820</td>\n",
       "      <td>11.006926</td>\n",
       "      <td>kindae</td>\n",
       "    </tr>\n",
       "    <tr>\n",
       "      <th>94</th>\n",
       "      <td>-3.048704</td>\n",
       "      <td>10.844052</td>\n",
       "      <td>kindae</td>\n",
       "    </tr>\n",
       "  </tbody>\n",
       "</table>\n",
       "<p>95 rows × 3 columns</p>\n",
       "</div>"
      ],
      "text/plain": [
       "            1          2 Population\n",
       "0   11.422564   6.299389     anubis\n",
       "1   10.770736   5.878742     anubis\n",
       "2   10.840323   6.126390     anubis\n",
       "3   11.994856   6.382074     anubis\n",
       "4   13.228243   6.602378     anubis\n",
       "..        ...        ...        ...\n",
       "90  -2.923056  11.078491     kindae\n",
       "91  -2.987473  10.944667     kindae\n",
       "92  -2.892263  11.040895     kindae\n",
       "93  -2.925820  11.006926     kindae\n",
       "94  -3.048704  10.844052     kindae\n",
       "\n",
       "[95 rows x 3 columns]"
      ]
     },
     "execution_count": 38,
     "metadata": {},
     "output_type": "execute_result"
    }
   ],
   "source": [
    "umap_df = pd.DataFrame(data = embedding,\n",
    "                       columns = ['1', '2'])\n",
    "final_embed = pd.concat([umap_df, pop[['Population']]], axis = 1)\n",
    "final_embed"
   ]
  },
  {
   "cell_type": "code",
   "execution_count": 49,
   "id": "endangered-olympus",
   "metadata": {},
   "outputs": [
    {
     "data": {
      "image/png": "[encoded data removed]",
      "text/plain": [
       "<Figure size 432x360 with 1 Axes>"
      ]
     },
     "metadata": {
      "needs_background": "light"
     },
     "output_type": "display_data"
    }
   ],
   "source": [
    "fig, ax = plt.subplots(figsize = (6,5))\n",
    "\n",
    "groups = final_embed.groupby('Population')\n",
    "for name, group in groups:\n",
    "    ax.scatter(group['1'], group['2'], label=name)\n",
    "\n",
    "ax.set_title('UMAP projection of scaled & pruned data', fontsize = 15)\n",
    "ax.legend()\n",
    "plt.show()"
   ]
  }
 ],
 "metadata": {
  "kernelspec": {
   "display_name": "Python 3",
   "language": "python",
   "name": "python3"
  },
  "language_info": {
   "codemirror_mode": {
    "name": "ipython",
    "version": 3
   },
   "file_extension": ".py",
   "mimetype": "text/x-python",
   "name": "python",
   "nbconvert_exporter": "python",
   "pygments_lexer": "ipython3",
   "version": "3.7.10"
  }
 },
 "nbformat": 4,
 "nbformat_minor": 5
}
